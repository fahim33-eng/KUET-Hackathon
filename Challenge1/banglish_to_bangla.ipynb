{
 "cells": [
  {
   "cell_type": "markdown",
   "metadata": {},
   "source": [
    "# Banglish to Bengali Transliteration Model\n",
    "\n",
    "This notebook implements a sequence-to-sequence model for converting Banglish text to Bengali script using the mBART model."
   ]
  },
  {
   "cell_type": "code",
   "execution_count": null,
   "metadata": {},
   "outputs": [],
   "source": [
    "# Install required packages\n",
    "%pip install transformers datasets torch sentencepiece tensorboard --quiet"
   ]
  },
  {
   "cell_type": "code",
   "execution_count": null,
   "metadata": {},
   "outputs": [],
   "source": [
    "import torch\n",
    "from datasets import load_dataset\n",
    "from transformers import (\n",
    "    MBartForConditionalGeneration,\n",
    "    MBartTokenizer,\n",
    "    Seq2SeqTrainingArguments,\n",
    "    Seq2SeqTrainer,\n",
    "    DataCollatorForSeq2Seq\n",
    ")\n",
    "import numpy as np\n",
    "from sklearn.model_selection import train_test_split"
   ]
  },
  {
   "cell_type": "code",
   "execution_count": null,
   "metadata": {},
   "outputs": [],
   "source": [
    "# Loading the SKNahin/bengali-transliteration-data dataset\n",
    "print(\"Loading bengali-transliteration-data dataset...\")\n",
    "ds = load_dataset(\"SKNahin/bengali-transliteration-data\")\n",
    "print(f\"Dataset loaded successfully!\")\n",
    "print(f\"Number of examples: {len(ds['train'])}\")\n",
    "\n",
    "print(\"\\nFirst few examples from the dataset:\")\n",
    "for i, example in enumerate(ds['train'][:3]):\n",
    "    print(f\"\\nExample {i+1}:\")\n",
    "    print(f\"Banglish: {example['banglish']}\")\n",
    "    print(f\"Bangla: {example['bangla']}\")"
   ]
  },
  {
   "cell_type": "code",
   "execution_count": null,
   "metadata": {},
   "outputs": [],
   "source": [
    "# Initializing tokenizer and model\n",
    "model_checkpoint = \"facebook/mbart-large-cc25\"\n",
    "tokenizer = MBartTokenizer.from_pretrained(model_checkpoint)\n",
    "model = MBartForConditionalGeneration.from_pretrained(model_checkpoint)\n",
    "\n",
    "# Adding Bengali language token\n",
    "special_tokens = {'additional_special_tokens': ['<bn>', '</bn>']}\n",
    "tokenizer.add_special_tokens(special_tokens)\n",
    "model.resize_token_embeddings(len(tokenizer))"
   ]
  },
  {
   "cell_type": "code",
   "execution_count": null,
   "metadata": {},
   "outputs": [],
   "source": [
    "def preprocess_data(examples):\n",
    "    # Adding special tokens to mark Banglish input\n",
    "    inputs = [f\"<bn>{text}</bn>\" for text in examples['banglish']]\n",
    "    targets = examples['bangla']\n",
    "    \n",
    "    # Tokenizing inputs and targets\n",
    "    model_inputs = tokenizer(\n",
    "        inputs,\n",
    "        max_length=128,\n",
    "        padding='max_length',\n",
    "        truncation=True,\n",
    "        return_tensors=\"pt\"\n",
    "    )\n",
    "    \n",
    "    with tokenizer.as_target_tokenizer():\n",
    "        labels = tokenizer(\n",
    "            targets,\n",
    "            max_length=128,\n",
    "            padding='max_length',\n",
    "            truncation=True,\n",
    "            return_tensors=\"pt\"\n",
    "        )\n",
    "    \n",
    "    model_inputs['labels'] = labels['input_ids']\n",
    "    return model_inputs"
   ]
  },
  {
   "cell_type": "code",
   "execution_count": null,
   "metadata": {},
   "outputs": [],
   "source": [
    "# Splitting the dataset\n",
    "train_val = ds['train'].train_test_split(test_size=0.1, seed=42)\n",
    "train_dataset = train_val['train']\n",
    "val_dataset = train_val['test']\n",
    "\n",
    "# Applying preprocessing\n",
    "train_dataset = train_dataset.map(\n",
    "    preprocess_data,\n",
    "    batched=True,\n",
    "    remove_columns=train_dataset.column_names\n",
    ")\n",
    "\n",
    "val_dataset = val_dataset.map(\n",
    "    preprocess_data,\n",
    "    batched=True,\n",
    "    remove_columns=val_dataset.column_names\n",
    ")"
   ]
  },
  {
   "cell_type": "code",
   "execution_count": null,
   "metadata": {},
   "outputs": [],
   "source": [
    "# Configuring training arguments\n",
    "training_args = Seq2SeqTrainingArguments(\n",
    "    output_dir=\"./results\",\n",
    "    evaluation_strategy=\"epoch\",\n",
    "    learning_rate=3e-5,\n",
    "    per_device_train_batch_size=8,\n",
    "    per_device_eval_batch_size=8,\n",
    "    num_train_epochs=5,\n",
    "    weight_decay=0.01,\n",
    "    save_total_limit=3,\n",
    "    predict_with_generate=True,\n",
    "    fp16=True,  # Enabling mixed precision training\n",
    "    gradient_accumulation_steps=4,\n",
    "    logging_steps=100\n",
    ")\n",
    "\n",
    "# Initializing data collator\n",
    "data_collator = DataCollatorForSeq2Seq(tokenizer, model=model)"
   ]
  },
  {
   "cell_type": "code",
   "execution_count": null,
   "metadata": {},
   "outputs": [],
   "source": [
    "# Defining metrics for evaluation\n",
    "def compute_metrics(eval_pred):\n",
    "    predictions, labels = eval_pred\n",
    "    decoded_preds = tokenizer.batch_decode(predictions, skip_special_tokens=True)\n",
    "    labels = np.where(labels != -100, labels, tokenizer.pad_token_id)\n",
    "    decoded_labels = tokenizer.batch_decode(labels, skip_special_tokens=True)\n",
    "    \n",
    "    # Calculating character-level accuracy\n",
    "    total_chars = 0\n",
    "    correct_chars = 0\n",
    "    for pred, label in zip(decoded_preds, decoded_labels):\n",
    "        total_chars += len(label)\n",
    "        for p, l in zip(pred, label):\n",
    "            if p == l:\n",
    "                correct_chars += 1\n",
    "    \n",
    "    return {\"character_accuracy\": correct_chars / total_chars}"
   ]
  },
  {
   "cell_type": "code",
   "execution_count": null,
   "metadata": {},
   "outputs": [],
   "source": [
    "# Initializing trainer\n",
    "trainer = Seq2SeqTrainer(\n",
    "    model=model,\n",
    "    args=training_args,\n",
    "    train_dataset=train_dataset,\n",
    "    eval_dataset=val_dataset,\n",
    "    tokenizer=tokenizer,\n",
    "    data_collator=data_collator,\n",
    "    compute_metrics=compute_metrics\n",
    ")"
   ]
  },
  {
   "cell_type": "code",
   "execution_count": null,
   "metadata": {},
   "outputs": [],
   "source": [
    "# Training the model\n",
    "print(\"Starting training...\")\n",
    "trainer.train()"
   ]
  },
  {
   "cell_type": "code",
   "execution_count": null,
   "metadata": {},
   "outputs": [],
   "source": [
    "# Saving the model\n",
    "print(\"Saving model...\")\n",
    "model_path = \"./model\"\n",
    "trainer.save_model(model_path)\n",
    "tokenizer.save_pretrained(model_path)"
   ]
  },
  {
   "cell_type": "code",
   "execution_count": null,
   "metadata": {},
   "outputs": [],
   "source": [
    "# Testing the model\n",
    "def translate_text(text):\n",
    "    inputs = tokenizer(f\"<bn>{text}</bn>\", return_tensors=\"pt\", padding=True)\n",
    "    outputs = model.generate(**inputs, max_length=128)\n",
    "    return tokenizer.decode(outputs[0], skip_special_tokens=True)\n",
    "\n",
    "# Testing examples\n",
    "test_texts = [\n",
    "    \"amar sonar bangla\",\n",
    "    \"ami tomake bhalobashi\",\n",
    "    \"kemon acho\"\n",
    "]\n",
    "\n",
    "print(\"\\nTest translations:\")\n",
    "for text in test_texts:\n",
    "    translated = translate_text(text)\n",
    "    print(f\"Input: {text}\")\n",
    "    print(f\"Output: {translated}\\n\")"
   ]
  }
 ],
 "metadata": {
  "language_info": {
   "name": "python"
  }
 },
 "nbformat": 4,
 "nbformat_minor": 2
}
